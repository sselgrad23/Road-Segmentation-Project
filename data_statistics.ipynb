{
 "cells": [
  {
   "cell_type": "markdown",
   "metadata": {
    "pycharm": {
     "name": "#%% md\n"
    }
   },
   "source": [
    "# README\n",
    "We use the following script to generate data statistics"
   ]
  },
  {
   "cell_type": "code",
   "execution_count": 1,
   "metadata": {
    "pycharm": {
     "name": "#%%\n"
    }
   },
   "outputs": [],
   "source": [
    "from data import ETHCILDataset, ETHMultiCityDataset"
   ]
  },
  {
   "cell_type": "code",
   "execution_count": 2,
   "metadata": {
    "pycharm": {
     "name": "#%%\n"
    }
   },
   "outputs": [],
   "source": [
    "from typing import List\n",
    "# utilizes code from https://discuss.pytorch.org/t/about-normalization-using-pre-trained-vgg16-networks/23560/6?u=kuzand\n",
    "\n",
    "from torch.utils.data import DataLoader\n",
    "\n",
    "def normalize(dataset):\n",
    "    loader = DataLoader(\n",
    "        dataset,\n",
    "        batch_size=len(dataset),\n",
    "        num_workers=1,\n",
    "        shuffle=False\n",
    "    )\n",
    "\n",
    "\n",
    "    mean = 0.\n",
    "    std = 0.\n",
    "    nb_samples = 0.\n",
    "    for data in loader:\n",
    "        #get rid of label if we have one\n",
    "        if isinstance(data, List):\n",
    "            data = data[0]\n",
    "\n",
    "        batch_samples = data.size(0)\n",
    "        data = data.view(batch_samples, data.size(1), -1)\n",
    "        mean += data.mean(2).sum(0)\n",
    "        std += data.std(2).sum(0)\n",
    "        nb_samples += batch_samples\n",
    "\n",
    "    mean /= nb_samples\n",
    "    std /= nb_samples\n",
    "    print(f'Mean: {mean}')\n",
    "    print(f'Std: {std}')"
   ]
  },
  {
   "cell_type": "code",
   "execution_count": 5,
   "metadata": {
    "pycharm": {
     "name": "#%%\n"
    }
   },
   "outputs": [
    {
     "name": "stdout",
     "output_type": "stream",
     "text": [
      "ETH CIL Dataset: \n",
      "Mean: tensor([0.5098, 0.5205, 0.5180])\n",
      "Std: tensor([0.2109, 0.2011, 0.1962])\n",
      "ETH Large Satellite Dataset for paris \n",
      "Mean: tensor([0.3224, 0.3629, 0.3438])\n",
      "Std: tensor([0.1890, 0.2057, 0.1960])\n",
      "ETH Large Satellite Dataset for zurich \n",
      "Mean: tensor([0.2436, 0.2583, 0.2360])\n",
      "Std: tensor([0.1386, 0.1353, 0.1285])\n",
      "ETH Large Satellite Dataset for berlin \n",
      "Mean: tensor([0.3153, 0.3344, 0.3120])\n",
      "Std: tensor([0.1802, 0.1881, 0.1836])\n",
      "ETH Large Satellite Dataset for chicago \n",
      "Mean: tensor([0.3372, 0.3348, 0.3009])\n",
      "Std: tensor([0.1833, 0.1780, 0.1778])\n",
      "ETH Large Satellite Dataset for ['paris', 'zurich', 'berlin', 'chicago'] \n",
      "Mean: tensor([0.3082, 0.3285, 0.3042])\n",
      "Std: tensor([0.1752, 0.1803, 0.1745])\n"
     ]
    }
   ],
   "source": [
    "print('ETH CIL Dataset: ')\n",
    "normalize(ETHCILDataset(args=None, data_dir='/hdd/data/cil_data_root/cil_data',split='stats'))\n",
    "\n",
    "\n",
    "cities = ['paris', 'zurich', 'berlin', 'chicago']\n",
    "for city in cities:\n",
    "    print(f'ETH Large Satellite Dataset for {city} ')\n",
    "    normalize(ETHMultiCityDataset(args=None, data_dir='/hdd/data/cil_data_root/cities_data', split='stats', cities=[city]))\n",
    "\n",
    "\n",
    "print(f'ETH Large Satellite Dataset for {cities} ')\n",
    "normalize(ETHMultiCityDataset(args=None, data_dir='/hdd/data/cil_data_root/cities_data', split='stats', cities=cities))\n"
   ]
  },
  {
   "cell_type": "code",
   "execution_count": null,
   "metadata": {},
   "outputs": [],
   "source": []
  }
 ],
 "metadata": {
  "kernelspec": {
   "display_name": "Python 3 (ipykernel)",
   "language": "python",
   "name": "python3"
  },
  "language_info": {
   "codemirror_mode": {
    "name": "ipython",
    "version": 3
   },
   "file_extension": ".py",
   "mimetype": "text/x-python",
   "name": "python",
   "nbconvert_exporter": "python",
   "pygments_lexer": "ipython3",
   "version": "3.8.10"
  }
 },
 "nbformat": 4,
 "nbformat_minor": 1
}